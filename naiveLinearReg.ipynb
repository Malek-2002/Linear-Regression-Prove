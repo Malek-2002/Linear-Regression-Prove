{
 "cells": [
  {
   "cell_type": "code",
   "execution_count": 2,
   "metadata": {},
   "outputs": [],
   "source": [
    "import numpy as np\n",
    "import pandas as pd\n",
    "import matplotlib.pyplot as plt"
   ]
  },
  {
   "cell_type": "code",
   "execution_count": 3,
   "metadata": {},
   "outputs": [],
   "source": [
    "path = 'POPvsProfit.txt'"
   ]
  },
  {
   "cell_type": "code",
   "execution_count": 4,
   "metadata": {},
   "outputs": [
    {
     "data": {
      "text/html": [
       "<div>\n",
       "<style scoped>\n",
       "    .dataframe tbody tr th:only-of-type {\n",
       "        vertical-align: middle;\n",
       "    }\n",
       "\n",
       "    .dataframe tbody tr th {\n",
       "        vertical-align: top;\n",
       "    }\n",
       "\n",
       "    .dataframe thead th {\n",
       "        text-align: right;\n",
       "    }\n",
       "</style>\n",
       "<table border=\"1\" class=\"dataframe\">\n",
       "  <thead>\n",
       "    <tr style=\"text-align: right;\">\n",
       "      <th></th>\n",
       "      <th>population</th>\n",
       "      <th>profit</th>\n",
       "    </tr>\n",
       "  </thead>\n",
       "  <tbody>\n",
       "    <tr>\n",
       "      <th>0</th>\n",
       "      <td>6.1101</td>\n",
       "      <td>17.59200</td>\n",
       "    </tr>\n",
       "    <tr>\n",
       "      <th>1</th>\n",
       "      <td>5.5277</td>\n",
       "      <td>9.13020</td>\n",
       "    </tr>\n",
       "    <tr>\n",
       "      <th>2</th>\n",
       "      <td>8.5186</td>\n",
       "      <td>13.66200</td>\n",
       "    </tr>\n",
       "    <tr>\n",
       "      <th>3</th>\n",
       "      <td>7.0032</td>\n",
       "      <td>11.85400</td>\n",
       "    </tr>\n",
       "    <tr>\n",
       "      <th>4</th>\n",
       "      <td>5.8598</td>\n",
       "      <td>6.82330</td>\n",
       "    </tr>\n",
       "    <tr>\n",
       "      <th>...</th>\n",
       "      <td>...</td>\n",
       "      <td>...</td>\n",
       "    </tr>\n",
       "    <tr>\n",
       "      <th>92</th>\n",
       "      <td>5.8707</td>\n",
       "      <td>7.20290</td>\n",
       "    </tr>\n",
       "    <tr>\n",
       "      <th>93</th>\n",
       "      <td>5.3054</td>\n",
       "      <td>1.98690</td>\n",
       "    </tr>\n",
       "    <tr>\n",
       "      <th>94</th>\n",
       "      <td>8.2934</td>\n",
       "      <td>0.14454</td>\n",
       "    </tr>\n",
       "    <tr>\n",
       "      <th>95</th>\n",
       "      <td>13.3940</td>\n",
       "      <td>9.05510</td>\n",
       "    </tr>\n",
       "    <tr>\n",
       "      <th>96</th>\n",
       "      <td>5.4369</td>\n",
       "      <td>0.61705</td>\n",
       "    </tr>\n",
       "  </tbody>\n",
       "</table>\n",
       "<p>97 rows × 2 columns</p>\n",
       "</div>"
      ],
      "text/plain": [
       "    population    profit\n",
       "0       6.1101  17.59200\n",
       "1       5.5277   9.13020\n",
       "2       8.5186  13.66200\n",
       "3       7.0032  11.85400\n",
       "4       5.8598   6.82330\n",
       "..         ...       ...\n",
       "92      5.8707   7.20290\n",
       "93      5.3054   1.98690\n",
       "94      8.2934   0.14454\n",
       "95     13.3940   9.05510\n",
       "96      5.4369   0.61705\n",
       "\n",
       "[97 rows x 2 columns]"
      ]
     },
     "execution_count": 4,
     "metadata": {},
     "output_type": "execute_result"
    }
   ],
   "source": [
    "data = pd.read_csv(path,header=None,names=['population','profit'])\n",
    "data"
   ]
  },
  {
   "cell_type": "code",
   "execution_count": 5,
   "metadata": {},
   "outputs": [
    {
     "data": {
      "text/html": [
       "<div>\n",
       "<style scoped>\n",
       "    .dataframe tbody tr th:only-of-type {\n",
       "        vertical-align: middle;\n",
       "    }\n",
       "\n",
       "    .dataframe tbody tr th {\n",
       "        vertical-align: top;\n",
       "    }\n",
       "\n",
       "    .dataframe thead th {\n",
       "        text-align: right;\n",
       "    }\n",
       "</style>\n",
       "<table border=\"1\" class=\"dataframe\">\n",
       "  <thead>\n",
       "    <tr style=\"text-align: right;\">\n",
       "      <th></th>\n",
       "      <th>count</th>\n",
       "      <th>mean</th>\n",
       "      <th>std</th>\n",
       "      <th>min</th>\n",
       "      <th>25%</th>\n",
       "      <th>50%</th>\n",
       "      <th>75%</th>\n",
       "      <th>max</th>\n",
       "    </tr>\n",
       "  </thead>\n",
       "  <tbody>\n",
       "    <tr>\n",
       "      <th>population</th>\n",
       "      <td>97.0</td>\n",
       "      <td>8.159800</td>\n",
       "      <td>3.869884</td>\n",
       "      <td>5.0269</td>\n",
       "      <td>5.7077</td>\n",
       "      <td>6.5894</td>\n",
       "      <td>8.5781</td>\n",
       "      <td>22.203</td>\n",
       "    </tr>\n",
       "    <tr>\n",
       "      <th>profit</th>\n",
       "      <td>97.0</td>\n",
       "      <td>5.839135</td>\n",
       "      <td>5.510262</td>\n",
       "      <td>-2.6807</td>\n",
       "      <td>1.9869</td>\n",
       "      <td>4.5623</td>\n",
       "      <td>7.0467</td>\n",
       "      <td>24.147</td>\n",
       "    </tr>\n",
       "  </tbody>\n",
       "</table>\n",
       "</div>"
      ],
      "text/plain": [
       "            count      mean       std     min     25%     50%     75%     max\n",
       "population   97.0  8.159800  3.869884  5.0269  5.7077  6.5894  8.5781  22.203\n",
       "profit       97.0  5.839135  5.510262 -2.6807  1.9869  4.5623  7.0467  24.147"
      ]
     },
     "execution_count": 5,
     "metadata": {},
     "output_type": "execute_result"
    }
   ],
   "source": [
    "data.describe().T"
   ]
  },
  {
   "cell_type": "code",
   "execution_count": 6,
   "metadata": {},
   "outputs": [
    {
     "data": {
      "text/plain": [
       "<AxesSubplot: xlabel='population', ylabel='profit'>"
      ]
     },
     "execution_count": 6,
     "metadata": {},
     "output_type": "execute_result"
    },
    {
     "data": {
      "image/png": "[encoded data removed]",
      "text/plain": [
       "<Figure size 640x480 with 1 Axes>"
      ]
     },
     "metadata": {},
     "output_type": "display_data"
    }
   ],
   "source": [
    "data.plot(kind='scatter', x='population', y='profit')"
   ]
  },
  {
   "cell_type": "code",
   "execution_count": 7,
   "metadata": {},
   "outputs": [
    {
     "data": {
      "text/html": [
       "<div>\n",
       "<style scoped>\n",
       "    .dataframe tbody tr th:only-of-type {\n",
       "        vertical-align: middle;\n",
       "    }\n",
       "\n",
       "    .dataframe tbody tr th {\n",
       "        vertical-align: top;\n",
       "    }\n",
       "\n",
       "    .dataframe thead th {\n",
       "        text-align: right;\n",
       "    }\n",
       "</style>\n",
       "<table border=\"1\" class=\"dataframe\">\n",
       "  <thead>\n",
       "    <tr style=\"text-align: right;\">\n",
       "      <th></th>\n",
       "      <th>ones</th>\n",
       "      <th>population</th>\n",
       "      <th>profit</th>\n",
       "    </tr>\n",
       "  </thead>\n",
       "  <tbody>\n",
       "    <tr>\n",
       "      <th>0</th>\n",
       "      <td>1</td>\n",
       "      <td>6.1101</td>\n",
       "      <td>17.59200</td>\n",
       "    </tr>\n",
       "    <tr>\n",
       "      <th>1</th>\n",
       "      <td>1</td>\n",
       "      <td>5.5277</td>\n",
       "      <td>9.13020</td>\n",
       "    </tr>\n",
       "    <tr>\n",
       "      <th>2</th>\n",
       "      <td>1</td>\n",
       "      <td>8.5186</td>\n",
       "      <td>13.66200</td>\n",
       "    </tr>\n",
       "    <tr>\n",
       "      <th>3</th>\n",
       "      <td>1</td>\n",
       "      <td>7.0032</td>\n",
       "      <td>11.85400</td>\n",
       "    </tr>\n",
       "    <tr>\n",
       "      <th>4</th>\n",
       "      <td>1</td>\n",
       "      <td>5.8598</td>\n",
       "      <td>6.82330</td>\n",
       "    </tr>\n",
       "    <tr>\n",
       "      <th>...</th>\n",
       "      <td>...</td>\n",
       "      <td>...</td>\n",
       "      <td>...</td>\n",
       "    </tr>\n",
       "    <tr>\n",
       "      <th>92</th>\n",
       "      <td>1</td>\n",
       "      <td>5.8707</td>\n",
       "      <td>7.20290</td>\n",
       "    </tr>\n",
       "    <tr>\n",
       "      <th>93</th>\n",
       "      <td>1</td>\n",
       "      <td>5.3054</td>\n",
       "      <td>1.98690</td>\n",
       "    </tr>\n",
       "    <tr>\n",
       "      <th>94</th>\n",
       "      <td>1</td>\n",
       "      <td>8.2934</td>\n",
       "      <td>0.14454</td>\n",
       "    </tr>\n",
       "    <tr>\n",
       "      <th>95</th>\n",
       "      <td>1</td>\n",
       "      <td>13.3940</td>\n",
       "      <td>9.05510</td>\n",
       "    </tr>\n",
       "    <tr>\n",
       "      <th>96</th>\n",
       "      <td>1</td>\n",
       "      <td>5.4369</td>\n",
       "      <td>0.61705</td>\n",
       "    </tr>\n",
       "  </tbody>\n",
       "</table>\n",
       "<p>97 rows × 3 columns</p>\n",
       "</div>"
      ],
      "text/plain": [
       "    ones  population    profit\n",
       "0      1      6.1101  17.59200\n",
       "1      1      5.5277   9.13020\n",
       "2      1      8.5186  13.66200\n",
       "3      1      7.0032  11.85400\n",
       "4      1      5.8598   6.82330\n",
       "..   ...         ...       ...\n",
       "92     1      5.8707   7.20290\n",
       "93     1      5.3054   1.98690\n",
       "94     1      8.2934   0.14454\n",
       "95     1     13.3940   9.05510\n",
       "96     1      5.4369   0.61705\n",
       "\n",
       "[97 rows x 3 columns]"
      ]
     },
     "execution_count": 7,
     "metadata": {},
     "output_type": "execute_result"
    }
   ],
   "source": [
    "data.insert(0, 'ones', 1)\n",
    "data"
   ]
  },
  {
   "cell_type": "code",
   "execution_count": 8,
   "metadata": {},
   "outputs": [],
   "source": [
    "col = data.shape[1]\n",
    "x = data.iloc[:,0:col-1]\n",
    "y = data.iloc[:,col-1:col]"
   ]
  },
  {
   "cell_type": "code",
   "execution_count": 10,
   "metadata": {},
   "outputs": [
    {
     "data": {
      "text/plain": [
       "matrix([[0., 0.]])"
      ]
     },
     "execution_count": 10,
     "metadata": {},
     "output_type": "execute_result"
    }
   ],
   "source": [
    "theta = np.matrix(np.zeros(col - 1))\n",
    "theta"
   ]
  },
  {
   "cell_type": "code",
   "execution_count": 11,
   "metadata": {},
   "outputs": [],
   "source": [
    "X = np.matrix(x.values)\n",
    "Y = np.matrix(y.values)"
   ]
  },
  {
   "cell_type": "code",
   "execution_count": 12,
   "metadata": {},
   "outputs": [],
   "source": [
    "def computeCost(x,y,theta):\n",
    "    z = np.power(x * theta.T - y, 2)\n",
    "    return np.sum(z) / (2 * len(x))\n"
   ]
  },
  {
   "cell_type": "code",
   "execution_count": 13,
   "metadata": {},
   "outputs": [
    {
     "data": {
      "text/plain": [
       "32.072733877455676"
      ]
     },
     "execution_count": 13,
     "metadata": {},
     "output_type": "execute_result"
    }
   ],
   "source": [
    "computeCost(X,Y,theta)"
   ]
  },
  {
   "cell_type": "code",
   "execution_count": 14,
   "metadata": {},
   "outputs": [],
   "source": [
    "alpha = 0.002\n",
    "iters = 10000"
   ]
  },
  {
   "cell_type": "code",
   "execution_count": 15,
   "metadata": {},
   "outputs": [],
   "source": [
    "def gradientDescent(x,y,theta,alpha,iters):\n",
    "    tempTheta = np.matrix(np.zeros(theta.shape))\n",
    "    numClms = theta.shape[1]\n",
    "    cost = np.zeros(iters)\n",
    "    \n",
    "    for i in range(iters):\n",
    "        error = (x * theta.T - y)\n",
    "        for j in range(numClms):\n",
    "            mult = np.multiply(error , x[:,j])\n",
    "            tempTheta[0,j] = theta[0,j] - (np.sum(mult) * alpha / len(x))\n",
    "        theta = tempTheta\n",
    "        cost[i] = computeCost(x,y,theta)\n",
    "\n",
    "    return theta, cost    \n"
   ]
  },
  {
   "cell_type": "code",
   "execution_count": 16,
   "metadata": {},
   "outputs": [
    {
     "name": "stdout",
     "output_type": "stream",
     "text": [
      "[[-3.78778781  1.18218457]]\n"
     ]
    }
   ],
   "source": [
    "gradientTheta , cost = gradientDescent(X,Y,theta,alpha,iters)\n",
    "print(gradientTheta)"
   ]
  },
  {
   "cell_type": "code",
   "execution_count": 17,
   "metadata": {},
   "outputs": [
    {
     "data": {
      "text/plain": [
       "matrix([[-2.60560324,  3.43547813],\n",
       "        [-2.60560324,  2.74697383],\n",
       "        [-2.60560324,  6.28276966],\n",
       "        [-2.60560324,  4.49128717],\n",
       "        [-2.60560324,  3.13957733],\n",
       "        [-2.60560324,  6.12234721],\n",
       "        [-2.60560324,  5.0506969 ],\n",
       "        [-2.60560324,  6.35310964],\n",
       "        [-2.60560324,  3.88009774],\n",
       "        [-2.60560324,  2.18768231],\n",
       "        [-2.60560324,  2.96331361],\n",
       "        [-2.60560324, 12.95667443],\n",
       "        [-2.60560324,  2.99085851],\n",
       "        [-2.60560324,  6.15249292],\n",
       "        [-2.60560324,  2.88056069],\n",
       "        [-2.60560324,  2.57165586],\n",
       "        [-2.60560324,  3.73728985],\n",
       "        [-2.60560324,  2.27693725],\n",
       "        [-2.60560324,  3.8131861 ],\n",
       "        [-2.60560324,  4.57120284],\n",
       "        [-2.60560324,  3.52887071],\n",
       "        [-2.60560324, 20.1750934 ],\n",
       "        [-2.60560324,  2.70252369],\n",
       "        [-2.60560324,  3.69082999],\n",
       "        [-2.60560324,  2.7909511 ],\n",
       "        [-2.60560324, 18.60869885],\n",
       "        [-2.60560324, 11.37727584],\n",
       "        [-2.60560324,  9.16540851],\n",
       "        [-2.60560324, 11.78867607],\n",
       "        [-2.60560324, 22.46025617],\n",
       "        [-2.60560324,  2.42151842],\n",
       "        [-2.60560324,  4.00209919],\n",
       "        [-2.60560324,  7.14529152],\n",
       "        [-2.60560324,  3.17740724],\n",
       "        [-2.60560324,  5.91924791],\n",
       "        [-2.60560324,  5.59095525],\n",
       "        [-2.60560324,  5.78306024],\n",
       "        [-2.60560324,  2.83989354],\n",
       "        [-2.60560324, 11.38673332],\n",
       "        [-2.60560324,  3.72310363],\n",
       "        [-2.60560324,  2.60416594],\n",
       "        [-2.60560324,  4.34859749],\n",
       "        [-2.60560324, 10.05322912],\n",
       "        [-2.60560324,  3.03779124],\n",
       "        [-2.60560324,  5.46245179],\n",
       "        [-2.60560324,  4.59756556],\n",
       "        [-2.60560324,  2.20612439],\n",
       "        [-2.60560324,  3.07053775],\n",
       "        [-2.60560324, 10.04377165],\n",
       "        [-2.60560324,  2.7634062 ],\n",
       "        [-2.60560324,  5.12612028],\n",
       "        [-2.60560324,  2.48689323],\n",
       "        [-2.60560324,  4.98863221],\n",
       "        [-2.60560324,  5.20047969],\n",
       "        [-2.60560324,  3.69875063],\n",
       "        [-2.60560324,  3.72960565],\n",
       "        [-2.60560324,  3.62947461],\n",
       "        [-2.60560324,  2.87937851],\n",
       "        [-2.60560324,  7.21858697],\n",
       "        [-2.60560324,  7.38811223],\n",
       "        [-2.60560324,  6.64546389],\n",
       "        [-2.60560324,  2.33510073],\n",
       "        [-2.60560324, 21.36791763],\n",
       "        [-2.60560324, 13.83621974],\n",
       "        [-2.60560324, 18.62524943],\n",
       "        [-2.60560324,  4.74545685],\n",
       "        [-2.60560324,  6.01855141],\n",
       "        [-2.60560324,  8.31305344],\n",
       "        [-2.60560324,  2.71351801],\n",
       "        [-2.60560324, 20.25902851],\n",
       "        [-2.60560324,  8.19483498],\n",
       "        [-2.60560324,  4.88294491],\n",
       "        [-2.60560324,  3.31264915],\n",
       "        [-2.60560324,  4.75455967],\n",
       "        [-2.60560324,  2.1549358 ],\n",
       "        [-2.60560324,  3.95303853],\n",
       "        [-2.60560324,  5.12422878],\n",
       "        [-2.60560324,  2.16628477],\n",
       "        [-2.60560324,  8.35797645],\n",
       "        [-2.60560324,  2.25045632],\n",
       "        [-2.60560324,  2.98518402],\n",
       "        [-2.60560324,  2.34585861],\n",
       "        [-2.60560324,  3.72582266],\n",
       "        [-2.60560324,  7.76061859],\n",
       "        [-2.60560324,  3.91520862],\n",
       "        [-2.60560324,  6.2811146 ],\n",
       "        [-2.60560324,  7.06490297],\n",
       "        [-2.60560324,  3.30768397],\n",
       "        [-2.60560324,  2.73834389],\n",
       "        [-2.60560324,  2.1933568 ],\n",
       "        [-2.60560324,  2.95976706],\n",
       "        [-2.60560324,  5.24008287],\n",
       "        [-2.60560324,  3.15246314],\n",
       "        [-2.60560324,  2.4841742 ],\n",
       "        [-2.60560324,  6.0165417 ],\n",
       "        [-2.60560324, 12.04639231],\n",
       "        [-2.60560324,  2.63963148]])"
      ]
     },
     "execution_count": 17,
     "metadata": {},
     "output_type": "execute_result"
    }
   ],
   "source": [
    "Y_predicted = gradientTheta[0,0] + gradientTheta[0,1] * X\n",
    "Y_predicted"
   ]
  },
  {
   "cell_type": "code",
   "execution_count": 18,
   "metadata": {},
   "outputs": [
    {
     "data": {
      "text/plain": [
       "[<matplotlib.lines.Line2D at 0x27f3ba15ab0>]"
      ]
     },
     "execution_count": 18,
     "metadata": {},
     "output_type": "execute_result"
    },
    {
     "data": {
      "image/png": "[encoded data removed]",
      "text/plain": [
       "<Figure size 500x500 with 1 Axes>"
      ]
     },
     "metadata": {},
     "output_type": "display_data"
    }
   ],
   "source": [
    "fig, ax = plt.subplots(figsize=(5,5))\n",
    "ax.plot(np.arange(iters),cost,'r')"
   ]
  },
  {
   "attachments": {},
   "cell_type": "markdown",
   "metadata": {},
   "source": [
    "<h4>\n",
    "As you can see, the cost will change very sightly whan we increase the iteration over than 10000\n",
    "<h4>"
   ]
  },
  {
   "attachments": {},
   "cell_type": "markdown",
   "metadata": {},
   "source": [
    "<h3>\n",
    "Now lets plot Scatter Y and the staight line of Y_predicted togither\n",
    "<h3>"
   ]
  },
  {
   "cell_type": "code",
   "execution_count": 20,
   "metadata": {},
   "outputs": [
    {
     "data": {
      "text/plain": [
       "Text(0.5, 1.0, 'population vs profit')"
      ]
     },
     "execution_count": 20,
     "metadata": {},
     "output_type": "execute_result"
    },
    {
     "data": {
      "image/png": "[encoded data removed]",
      "text/plain": [
       "<Figure size 500x500 with 1 Axes>"
      ]
     },
     "metadata": {},
     "output_type": "display_data"
    }
   ],
   "source": [
    "fig, ax = plt.subplots(figsize=(5,5))\n",
    "ax.plot(X,Y_predicted,'r')\n",
    "ax.scatter(data.population,data.profit,label='Training Data')\n",
    "ax.legend(loc=2)\n",
    "ax.set_xlabel('population')\n",
    "ax.set_ylabel('profit')\n",
    "ax.set_title('population vs profit')\n"
   ]
  }
 ],
 "metadata": {
  "kernelspec": {
   "display_name": "Python 3",
   "language": "python",
   "name": "python3"
  },
  "language_info": {
   "codemirror_mode": {
    "name": "ipython",
    "version": 3
   },
   "file_extension": ".py",
   "mimetype": "text/x-python",
   "name": "python",
   "nbconvert_exporter": "python",
   "pygments_lexer": "ipython3",
   "version": "3.10.9"
  },
  "orig_nbformat": 4,
  "vscode": {
   "interpreter": {
    "hash": "4b17f24291e6f4d0f7f7fbbc6b2f5ba6adca1e7a8aad1e2579247a03377923cd"
   }
  }
 },
 "nbformat": 4,
 "nbformat_minor": 2
}
